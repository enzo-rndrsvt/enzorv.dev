{
 "cells": [
  {
   "cell_type": "markdown",
   "id": "7befabb9",
   "metadata": {
    "id": "7befabb9"
   },
   "source": [
    "# TP 2 - Chiffrement symétrique (2)"
   ]
  },
  {
   "cell_type": "markdown",
   "id": "bcff89e5",
   "metadata": {
    "id": "bcff89e5"
   },
   "source": [
    "Assurez-vous d'avoir ajouté les fonctions du dernier TP à votre fichier <code>OutilsCrypto.py</code> puis chargez-le en ecécutant le bloc suivant."
   ]
  },
  {
   "cell_type": "code",
   "execution_count": 1,
   "id": "1eec5c31",
   "metadata": {
    "id": "1eec5c31"
   },
   "outputs": [],
   "source": [
    "from OutilsCrypto import *"
   ]
  },
  {
   "cell_type": "markdown",
   "id": "0c727afb",
   "metadata": {
    "id": "0c727afb"
   },
   "source": [
    "## 1. Chiffrement de Vigenère"
   ]
  },
  {
   "cell_type": "markdown",
   "id": "e82cba3e",
   "metadata": {
    "id": "e82cba3e"
   },
   "source": [
    "Une des faiblesses du chiffrement de César et du chiffrement affine est que chaque lettre est toujours chiffrée de la même manière, ce qui les rend vulnérables à une attaque statistique (cf prochain TP).\n",
    "\n",
    "Le chiffrement de Vigenère propose de remédier à ça en faisant varier le décalage. La clé choisie sera un mot et sera répétée autant de fois que nécessaire."
   ]
  },
  {
   "cell_type": "markdown",
   "id": "8aff0b1c",
   "metadata": {
    "id": "8aff0b1c"
   },
   "source": [
    "<i>Exemple :</i>\n",
    "$$\n",
    "\\begin{array}{|c|c|c|c|c|c|c|c|}\n",
    "\\hline\n",
    "\\text{texte à chiffrer} & e & l& e&v&e&s\\\\\n",
    "\\hline\n",
    "\\text{texte codé}& 4 & 11 & 4 & 21 & 4 & 18\\\\\n",
    "\\hline\n",
    "\\text{clé} & c &l& e&c&l&e\\\\\n",
    "\\hline\n",
    "\\text{décalage} & 2 & 11 & 4 & 2 & 11 & 4 \\\\\n",
    "\\hline\n",
    "\\text{résultat codé} & 6 & 22 & 8 & 23 & 15 & 22\\\\\n",
    "\\hline\n",
    "\\text{texte chiffré} & g & w & i & x & p & w\\\\\n",
    "\\hline\n",
    "\\end{array}\n",
    "$$"
   ]
  },
  {
   "cell_type": "markdown",
   "id": "0bb0eeb6",
   "metadata": {
    "id": "0bb0eeb6"
   },
   "source": [
    "<b>Exercice 1.</b> Écrire la fonction <code>chiffre_vigenere(mot,cle)</code> qui chiffre le mot <code>mot</code> avec la clé <code>cle</code>."
   ]
  },
  {
   "cell_type": "code",
   "execution_count": 2,
   "id": "c6581a3d",
   "metadata": {
    "id": "c6581a3d"
   },
   "outputs": [],
   "source": [
    "def chiffre_vigenere(mot,cle):\n",
    "    res = \"\"\n",
    "    for i in range(len(mot)):\n",
    "        res += decode((code(mot[i]) + code(cle[i%len(cle)])) % 26)\n",
    "    return res"
   ]
  },
  {
   "cell_type": "markdown",
   "id": "ef497e9e",
   "metadata": {
    "id": "ef497e9e"
   },
   "source": [
    "Tester cette fonction à l'aide du bloc suivant."
   ]
  },
  {
   "cell_type": "code",
   "execution_count": 46,
   "id": "af5c70a2",
   "metadata": {
    "id": "af5c70a2"
   },
   "outputs": [
    {
     "name": "stdout",
     "output_type": "stream",
     "text": [
      "*** CHIFFREMENT ***\n",
      "Le texte ' eleves ' chiffré avec le chiffrement de Vigenère de clé ' cle ' est :  gwixpw\n"
     ]
    }
   ],
   "source": [
    "print(\"*** CHIFFREMENT ***\")\n",
    "txt = \"eleves\"\n",
    "cle = \"cle\"\n",
    "texte_chiffre = chiffre_vigenere(txt,cle)\n",
    "print(\"Le texte '\",txt,\"' chiffré avec le chiffrement de Vigenère de clé '\",cle,\"' est : \",texte_chiffre)"
   ]
  },
  {
   "cell_type": "markdown",
   "id": "86fbdf23",
   "metadata": {
    "id": "86fbdf23"
   },
   "source": [
    "Écrire la fonction <code>dechiffre_vigenere(mot,cle)</code> qui déchiffre le mot <code>mot</code> qui a été chiffré avec la clé <code>cle</code>."
   ]
  },
  {
   "cell_type": "code",
   "execution_count": 4,
   "id": "93746843",
   "metadata": {
    "id": "93746843"
   },
   "outputs": [],
   "source": [
    "def dechiffre_vigenere(mot,cle):\n",
    "    res = \"\"\n",
    "    for i in range(len(mot)):\n",
    "        res += decode((code(mot[i]) - code(cle[i%len(cle)])) % 26)\n",
    "    return res"
   ]
  },
  {
   "cell_type": "markdown",
   "id": "ecc8d9f0",
   "metadata": {
    "id": "ecc8d9f0"
   },
   "source": [
    "Tester cette fonction à l'aide du bloc suivant."
   ]
  },
  {
   "cell_type": "code",
   "execution_count": 48,
   "id": "6641c41c",
   "metadata": {
    "id": "6641c41c"
   },
   "outputs": [
    {
     "name": "stdout",
     "output_type": "stream",
     "text": [
      "*** DECHIFFREMENT ***\n",
      "Le texte ' lobiurpohp ' déchiffré avec le chiffrement de Vigenère de clé ' cadeau ' est :  joyeuxnoel\n"
     ]
    }
   ],
   "source": [
    "print(\"*** DECHIFFREMENT ***\")\n",
    "txt = \"lobiurpohp\"\n",
    "cle = \"cadeau\"\n",
    "texte_clair = dechiffre_vigenere(txt,cle)\n",
    "print(\"Le texte '\",txt,\"' déchiffré avec le chiffrement de Vigenère de clé '\",cle,\"' est : \",texte_clair)"
   ]
  },
  {
   "cell_type": "markdown",
   "id": "2d4b104d",
   "metadata": {
    "id": "2d4b104d"
   },
   "source": [
    "Si on suppose que la clé de chiffrement est de longueur $k$, combien faudrait-il tester de clés dans une attaque par force brute ? Comparer au chiffrement de César et au chiffrement affine."
   ]
  },
  {
   "cell_type": "markdown",
   "id": "faba933e",
   "metadata": {
    "id": "faba933e"
   },
   "source": [
    "<div style=\"background-color:rgba(0, 255, 0, 0.19);padding:3%;\">\n",
    "<b>Réponse : </br>\n",
    "Vigenère : 26^k </br>\n",
    "César : 26 </br>\n",
    "Affine 12 x 26 = 312\n",
    "</b>\n",
    "</div>"
   ]
  },
  {
   "cell_type": "markdown",
   "id": "8ce61ba7",
   "metadata": {
    "id": "8ce61ba7"
   },
   "source": [
    " Exécuter le bloc suivant, puis analyser et comparer en quelques lignes les 3 algorithmes de chiffrement étudiés (César, affine, Vigenère)."
   ]
  },
  {
   "cell_type": "code",
   "execution_count": 49,
   "id": "1911af77",
   "metadata": {
    "id": "1911af77"
   },
   "outputs": [
    {
     "name": "stdout",
     "output_type": "stream",
     "text": [
      "lllllllll\n",
      "ttttttttt\n",
      "gpigpigpi\n",
      "elnswohib\n"
     ]
    }
   ],
   "source": [
    "print(chiffre_cesar(\"eeeeeeeee\",7))\n",
    "print(chiffre_affine(\"eeeeeeeee\",3,7))\n",
    "print(chiffre_vigenere(\"eeeeeeeee\",\"cle\"))\n",
    "print(chiffre_vigenere(\"eeeeeeeee\",\"ahjoskdex\"))"
   ]
  },
  {
   "cell_type": "markdown",
   "id": "c1f61436",
   "metadata": {
    "id": "c1f61436"
   },
   "source": [
    "<div style=\"background-color:rgba(0, 255, 0, 0.19);padding:3%;\">\n",
    "<b>Analyse et comparaison : </br>\n",
    "Cesar : plus simple mais pas sécurisé </br>\n",
    "Affine : plus sécurisé que le César mais reste facile à décrypter </br>\n",
    "Vigène : plus sécurisé\n",
    " </b>\n",
    "</div>"
   ]
  },
  {
   "cell_type": "markdown",
   "id": "545230c9",
   "metadata": {
    "id": "545230c9"
   },
   "source": [
    "## 2. Chiffrement de Vernam ou masque jetable"
   ]
  },
  {
   "cell_type": "markdown",
   "id": "f9b41ff0",
   "metadata": {
    "id": "f9b41ff0"
   },
   "source": [
    "Le principe du chiffrement de Vernam (ou masque jetable) consiste à créer une clé aléatoire de même taille que le message à envoyer, puis d'utiliser cette clé et le chiffrement de Vigenère pour chiffrer le message.\n",
    "Ainsi, on est assuré que la même lettre sera chiffrée différemment en fonction de sa position dans le message."
   ]
  },
  {
   "cell_type": "markdown",
   "id": "608ac3c5",
   "metadata": {
    "id": "608ac3c5"
   },
   "source": [
    "<b>Exercice 2</b>. Écrire la fonction <code>cle_vernam(n)</code> qui prend en paramètre un entier strictement positif <code>n</code> et qui renvoie une clé aléatoire de taille $n$ (i.e. un mot aléatoire de $n$ lettres)."
   ]
  },
  {
   "cell_type": "code",
   "execution_count": 72,
   "id": "729be76c",
   "metadata": {
    "id": "729be76c"
   },
   "outputs": [],
   "source": [
    "def cle_vernam(n):\n",
    "    res = \"\"\n",
    "    for i in range(n):\n",
    "        res += decode(random.randint(0,25))\n",
    "    return res"
   ]
  },
  {
   "cell_type": "markdown",
   "id": "e3c96b88",
   "metadata": {
    "id": "e3c96b88"
   },
   "source": [
    "Tester votre fonction en exécutant le bloc suivant."
   ]
  },
  {
   "cell_type": "code",
   "execution_count": 73,
   "id": "89552d2d",
   "metadata": {
    "id": "89552d2d"
   },
   "outputs": [
    {
     "data": {
      "text/plain": [
       "'pcscuur'"
      ]
     },
     "execution_count": 73,
     "metadata": {},
     "output_type": "execute_result"
    }
   ],
   "source": [
    "taille = 7\n",
    "cle_vernam(7)"
   ]
  },
  {
   "cell_type": "markdown",
   "id": "c8ba1e5e",
   "metadata": {
    "id": "c8ba1e5e"
   },
   "source": [
    "Écrire la fonction <code>chiffreVernam(mot)</code> qui prend en paramètre un <code>mot</code> et qui renvoie le couple <code>(motChiffre, cle)</code> dans lequel <code>cle</code> est une clé aléatoire de même taille que le mot et <code>motChiffre</code> est le chiffrement de Vernam du mot avec cette clé."
   ]
  },
  {
   "cell_type": "code",
   "execution_count": 6,
   "id": "0fbbd047",
   "metadata": {
    "id": "0fbbd047"
   },
   "outputs": [],
   "source": [
    "def chiffre_vernam(mot):\n",
    "    cle = cle_vernam(len(mot))\n",
    "    res = \"\"\n",
    "    for i in range(len(mot)):\n",
    "        res += decode((code(mot[i]) + code(cle[i])) % 26)\n",
    "    return res"
   ]
  },
  {
   "cell_type": "markdown",
   "id": "09f15b77",
   "metadata": {
    "id": "09f15b77"
   },
   "source": [
    "Tester votre fonction en exécutant le bloc suivant."
   ]
  },
  {
   "cell_type": "code",
   "execution_count": 80,
   "id": "293477e6",
   "metadata": {
    "id": "293477e6"
   },
   "outputs": [
    {
     "name": "stdout",
     "output_type": "stream",
     "text": [
      "wfhmsmttfsovm\n"
     ]
    }
   ],
   "source": [
    "mot = \"mathematiques\"\n",
    "print(chiffre_vernam(mot))"
   ]
  },
  {
   "cell_type": "markdown",
   "id": "22b7dfde",
   "metadata": {
    "id": "22b7dfde"
   },
   "source": [
    "Écrire la fonction <code>dechiffreVernam(motChiffre,cle)</code> qui prend en paramètre un <code>motChiffre</code> et une <code>cle</code> et qui renvoie le <code>mot</code> qui a été chiffré avec le chiffrement de Vernam avec la clé <code>cle</code>."
   ]
  },
  {
   "cell_type": "code",
   "execution_count": 7,
   "id": "a6d5aafa",
   "metadata": {
    "id": "a6d5aafa"
   },
   "outputs": [],
   "source": [
    "def dechiffre_vernam(mot_chiffre,cle):\n",
    "    res = \"\"\n",
    "    for i in range(len(mot_chiffre)):\n",
    "        res += decode((code(mot_chiffre[i]) - code(cle[i])) % 26)\n",
    "    return res"
   ]
  },
  {
   "cell_type": "markdown",
   "id": "41a75835",
   "metadata": {
    "id": "41a75835"
   },
   "source": [
    "Tester votre fonction en exécutant le bloc suivant."
   ]
  },
  {
   "cell_type": "code",
   "execution_count": 87,
   "id": "5d09cc26",
   "metadata": {
    "id": "5d09cc26"
   },
   "outputs": [
    {
     "data": {
      "text/plain": [
       "'bonneannee'"
      ]
     },
     "execution_count": 87,
     "metadata": {},
     "output_type": "execute_result"
    }
   ],
   "source": [
    "dechiffre_vernam(\"nnaxkhumud\", \"mznkghhzqz\")"
   ]
  },
  {
   "cell_type": "markdown",
   "id": "30f869e4",
   "metadata": {
    "id": "30f869e4"
   },
   "source": [
    "On dit que ce chiffrement est un <b>chiffrement parfait</b>. Expliquer selon vous en quoi ce chiffrement est d'une certaine manière le meilleur qui puisse exister, et aussi pourquoi il a un gros défaut qui le rend peu pratique à utiliser."
   ]
  },
  {
   "cell_type": "markdown",
   "id": "057c9f24",
   "metadata": {
    "id": "057c9f24"
   },
   "source": [
    "<div style=\"background-color:rgba(0, 255, 0, 0.19);padding:3%;\">\n",
    "<b>Explications : Il est impossible à déchiffrer sans la clé, mais son default est que la clé doit être aussi longue que le message</b>\n",
    "</div>"
   ]
  },
  {
   "cell_type": "markdown",
   "id": "6e7c9c20",
   "metadata": {
    "id": "6e7c9c20"
   },
   "source": [
    "## 3. Chiffrement de Hill"
   ]
  },
  {
   "cell_type": "markdown",
   "id": "52b00767",
   "metadata": {
    "id": "52b00767"
   },
   "source": [
    "### Préambule : Outils de calculs sur les matrices\n",
    "\n",
    "Voici quelques fonctions qui pourront vous être utilses par la suite pour la manipulation de matrices. N'oubliez pas d'excuter le bloc pour pouvoir utiliser ces fonctions dans votre code par la suite."
   ]
  },
  {
   "cell_type": "code",
   "execution_count": 7,
   "id": "50732cb9",
   "metadata": {
    "id": "50732cb9"
   },
   "outputs": [],
   "source": [
    "#Permet d'afficher des matrices (pour d'éventuel tests)\n",
    "def printM(M) :\n",
    "    try:\n",
    "        n=len(M)\n",
    "        m=len(M[0])\n",
    "    except : return print(\"\")\n",
    "\n",
    "    res=\"\"\n",
    "    for i in range(n) :\n",
    "        for j in range(m) :\n",
    "            try : res+=str(M[i][j])\n",
    "            except : return print(\"\")\n",
    "            if(j<m-1) : res+='\\t'\n",
    "        res+='\\n'\n",
    "    print(res)\n",
    "\n",
    "#renvoie le résultat du produit de matrice\n",
    "#Matrice vide en cas d'erreur\n",
    "def prod_mat(A,B) :\n",
    "    try :\n",
    "        lA=len(A)\n",
    "        cA=len(A[0])\n",
    "        lB=len(B)\n",
    "        cB=len(B[0])\n",
    "    except : return dict()\n",
    "    if(cA!=lB) : return dict()\n",
    "\n",
    "    res=dict()\n",
    "    for i in range(lA) :\n",
    "        res[i]=dict()\n",
    "        for j in range(cB) :\n",
    "            res[i][j]=0\n",
    "            for k in range(cA) : res[i][j]+=A[i][k]*B[k][j]\n",
    "    return res"
   ]
  },
  {
   "cell_type": "markdown",
   "id": "3af77afb",
   "metadata": {
    "id": "3af77afb"
   },
   "source": [
    "Le chiffrement de Hill utilise le calcul matriciel pour étendre le chiffrement affine à un bloc de plusieurs lettres. Il consiste à chiffrer le message en substituant les lettres du message, non plus lettre à lettre, mais par groupe de lettres. Il permet ainsi de rendre plus difficile le cassage du code par observation des fréquences.\n",
    "\n",
    "Nous allons l'illustrer ici en dimension 2, ce qui consiste à chiffrer des blocs de 2 lettres.\n",
    "\n",
    "Supposons par exemple qu'on désire chiffrer le message \"texteachiffrer\". On va commencer par chiffrer le 1er bloc de 2 lettres \"te\", puis on chiffrera \"xt\", et ainsi de suite jusqu'à la fin. Si le message possède un nombre impair de lettres, on ajoutera un \"x\" à la fin.\n",
    "\n",
    "Pour chiffrer chaque bloc de 2 lettres, on va tout d'abord le coder en un vecteur de dimension 2 contenant le codage de chaque lettre.\n",
    "\n",
    "Ainsi, \"te\" sera codé par $\\begin{pmatrix}19\\\\ 4\\end{pmatrix}$, \"xt\" sera codé par $\\begin{pmatrix}23\\\\ 19\\end{pmatrix}$, etc.\n",
    "\n",
    "Pour chiffrer un bloc, on utilisera la fonction de chiffrement suivante, avec comme clé une matrice $A$ carrée de dimension 2 :\n",
    "$$\n",
    "\\begin{array}{rccc}\n",
    "f_{A}\\ :\\ & \\mathcal{M}_{2,1}(\\mathbb{Z}/26\\mathbb{Z}) & \\longrightarrow & \\mathcal{M}_{2,1}(\\mathbb{Z}/26\\mathbb{Z})\\\\\n",
    "& X & \\longmapsto & AX\n",
    "\\end{array}\n",
    "$$\n",
    "La clé doit être choisie de sorte que cette fonction soit inversible, nous admettrons que ceci sera le cas si la matrice $A=\\pmatrix{a & b\\\\c & d}$ est construite de la manière suivante :\n",
    "- $a$, $b$, $c$ choisis au hasard de sorte que $a$ soit premier avec 26\n",
    "- $d$ choisi de sorte que $ad-bc$ soit inversible modulo 26\n",
    "\n",
    "Dans ce cas, la fonction de déchiffrement sera la fonction $f_{A^{-1}}$ où\n",
    "$$\n",
    "A^{-1} = e\\pmatrix{d & -b\\\\ -c & a}\n",
    "$$\n",
    "où $e$ est un représentant de l'inverse de $ad-bc \\pmod{26}$."
   ]
  },
  {
   "cell_type": "markdown",
   "id": "7554ef65",
   "metadata": {
    "id": "7554ef65"
   },
   "source": [
    "<b>Exemple</b> La matrice $A=\\pmatrix{3 & 5\\\\ 6 & 17}$ convient car $3$ est premier avec 26 et $3\\times 17-5\\times 6=21$ est inversible modulo 26 (car $\\gcd(21,26)=1)$).\n",
    "\n",
    "On a alors $e=5$ qui est un réprésentant de l'inverse de $21$ modulo 26 (car $5\\times 21 = 105$ et $105\\equiv 1 \\pmod{26}$).\n",
    "\n",
    "L'inverse de la matrice $A$ est alors la matrice\n",
    "$$\n",
    "A^{-1} \\equiv 5\\pmatrix{17 & -5\\\\ -6 & 3} \\equiv \\pmatrix{85 & -25\\\\ -30 & 15} \\equiv \\pmatrix{7 & 1\\\\ 22 & 15} \\pmod{26}\n",
    "$$\n",
    "\n",
    "Détaillons maintenant le chiffrement du bloc \"te\" puis le déchiffrement du bloc obtenu.\n",
    "\n",
    "<i>Chiffrement :</i> Pour chiffrer le bloc \"te\", on multiplie la matrice $A$ par le vecteur $\\pmatrix{19\\\\4}$ qui code \"te\".\n",
    "$$\n",
    "\\pmatrix{3 & 5\\\\ 6 & 17}\\times\\pmatrix{19\\\\4} \\equiv \\pmatrix{77\\\\182} \\equiv \\pmatrix{25\\\\0} \\pmod{26}\n",
    "$$\n",
    "On transforme le résultat obtenu $\\pmatrix{25\\\\0}$ en lettres, ce qui donne le bloc \"za\".\n",
    "\n",
    "<i>Déchiffrement :</i> Pour déchiffrer le bloc \"za\", on multiplie la matrice $A^{-1}$ par le vecteur $\\pmatrix{25\\\\0}$ qui code \"za\".\n",
    "$$\n",
    "\\pmatrix{7 & 1\\\\ 22 & 15}\\times\\pmatrix{25\\\\0} \\equiv \\pmatrix{175\\\\550} \\equiv \\pmatrix{19\\\\4} \\pmod{26}\n",
    "$$\n",
    "On transforme le résultat obtenu $\\pmatrix{19\\\\4}$ en lettres, ce qui donne le bloc \"te\"."
   ]
  },
  {
   "cell_type": "markdown",
   "id": "b4b5afc4",
   "metadata": {
    "id": "b4b5afc4"
   },
   "source": [
    "<b>Exercice 3.</b> Écrire la fonction <code>cle_hill()</code> qui retourne une matrice $A$ aléatoire satisfaisant les conditions pour être une clé de Hill fonctionnelle."
   ]
  },
  {
   "cell_type": "code",
   "execution_count": 29,
   "id": "5952416a",
   "metadata": {
    "id": "5952416a"
   },
   "outputs": [
    {
     "name": "stdout",
     "output_type": "stream",
     "text": [
      "[[17, 17], [5, 0]]\n"
     ]
    }
   ],
   "source": [
    "def cle_hill():\n",
    "    while True:\n",
    "        a=random.randint(0, 25)\n",
    "        b=random.randint(0, 25)\n",
    "        c=random.randint(0, 25)\n",
    "\n",
    "        if pgcd(a, 26) == 1:\n",
    "            for d in range(26):\n",
    "                if ((a*d-b*c)%26) != 0 and pgcd((a*d-b*c)%26, 26) == 1:\n",
    "                    return [[a,b],[c,d]]\n",
    "\n",
    "print(cle_hill())\n",
    "\n"
   ]
  },
  {
   "cell_type": "markdown",
   "id": "812832fe",
   "metadata": {
    "id": "812832fe"
   },
   "source": [
    "Écrire la fonction <code>chiffre_hill(txt,cle)</code> qui chiffre le texte <code>txt</code> à l'aide du chiffrement de Hill avec la clé <code>cle</code>."
   ]
  },
  {
   "cell_type": "code",
   "execution_count": null,
   "id": "a3702817",
   "metadata": {
    "id": "a3702817"
   },
   "outputs": [],
   "source": [
    "def chiffre_hill(txt,cle):\n",
    "    while len(txt) % len(cle) != 0:\n",
    "        txt += 'x'\n",
    "    \n",
    "    res = \"\"\n",
    "    for i in range(0, len(txt), len(cle)):\n",
    "        a = code(txt[i])\n",
    "        b = code(txt[i + 1])\n",
    "        c = (cle[0][0] * a + cle[0][1] * b) % 26\n",
    "        d = (cle[1][0] * a + cle[1][1] * b) % 26\n",
    "\n",
    "        res += decode(c) + decode(d)\n",
    "    return res\n",
    "        \n",
    "    \n",
    "    "
   ]
  },
  {
   "cell_type": "markdown",
   "id": "ac0d8d2d",
   "metadata": {
    "id": "ac0d8d2d"
   },
   "source": [
    "Tester votre algorithme en éxecutant le bloc suivant."
   ]
  },
  {
   "cell_type": "code",
   "execution_count": null,
   "id": "394c4d7a",
   "metadata": {
    "id": "394c4d7a"
   },
   "outputs": [
    {
     "name": "stdout",
     "output_type": "stream",
     "text": [
      "zaitmypbxdwhtb\n"
     ]
    }
   ],
   "source": [
    "print(chiffre_hill(\"texteachiffrer\", [[3,5],[6,17]]))\n",
    "\n",
    "# Le résultat obtenu doit être : zaitmypbxdwhtb"
   ]
  },
  {
   "cell_type": "markdown",
   "id": "20bcb5e7",
   "metadata": {
    "id": "20bcb5e7"
   },
   "source": [
    "Écrire la fonction <code>dechiffre_hill(txt,cle)</code> qui déchiffre le texte <code>txt</code> qui a été chiffré à l'aide du chiffrement de Hill avec la clé <code>cle</code>."
   ]
  },
  {
   "cell_type": "code",
   "execution_count": 41,
   "id": "797d8bf2",
   "metadata": {
    "id": "797d8bf2"
   },
   "outputs": [],
   "source": [
    "def dechiffre_hill(txt,cle):\n",
    "\n",
    "    det = (cle[0][0] * cle[1][1] - cle[0][1] * cle[1][0]) % 26\n",
    "    inv_det = inv_mod(det, 26)\n",
    "\n",
    "    cle_inverse = [\n",
    "        [(cle[1][1] * inv_det) % 26, (-cle[0][1] * inv_det) % 26],\n",
    "        [(-cle[1][0] * inv_det) % 26, (cle[0][0] * inv_det) % 26]\n",
    "    ]\n",
    "    \n",
    "    res = \"\"\n",
    "    for i in range(0, len(txt), len(cle)):\n",
    "        a = code(txt[i])\n",
    "        b = code(txt[i + 1])\n",
    "        c = (cle_inverse[0][0] * a + cle_inverse[0][1] * b) % 26\n",
    "        d = (cle_inverse[1][0] * a + cle_inverse[1][1] * b) % 26\n",
    "\n",
    "        res += decode(c) + decode(d)\n",
    "    return res"
   ]
  },
  {
   "cell_type": "markdown",
   "id": "2d18d698",
   "metadata": {
    "id": "2d18d698"
   },
   "source": [
    "Tester votre algorithme en éxecutant le bloc suivant."
   ]
  },
  {
   "cell_type": "code",
   "execution_count": 52,
   "id": "b47df902",
   "metadata": {
    "id": "b47df902"
   },
   "outputs": [
    {
     "name": "stdout",
     "output_type": "stream",
     "text": [
      "Message clair :  bonnesvacances\n",
      "clé :  [[23, 12], [6, 1]]\n",
      "Message chiffré :  junnwqpwumlcwq\n",
      "Message déchiffré :  bonnesvacances\n"
     ]
    }
   ],
   "source": [
    "txt = \"bonnesvacances\"\n",
    "\n",
    "A = cle_hill()\n",
    "txt_chiffre = chiffre_hill(txt, A)\n",
    "\n",
    "print(\"Message clair : \",txt)\n",
    "print(\"clé : \", A)\n",
    "print(\"Message chiffré : \", txt_chiffre)\n",
    "\n",
    "txt_dechiffre = dechiffre_hill(txt_chiffre,A)\n",
    "\n",
    "print(\"Message déchiffré : \", txt_dechiffre)\n",
    "\n",
    "# on doit retrouver le txt du début, avec un caractère supplémentaire à la fin car il y a un nombre impair de lettres"
   ]
  }
 ],
 "metadata": {
  "colab": {
   "provenance": []
  },
  "kernelspec": {
   "display_name": "Python 3",
   "language": "python",
   "name": "python3"
  },
  "language_info": {
   "codemirror_mode": {
    "name": "ipython",
    "version": 3
   },
   "file_extension": ".py",
   "mimetype": "text/x-python",
   "name": "python",
   "nbconvert_exporter": "python",
   "pygments_lexer": "ipython3",
   "version": "3.13.0"
  }
 },
 "nbformat": 4,
 "nbformat_minor": 5
}
